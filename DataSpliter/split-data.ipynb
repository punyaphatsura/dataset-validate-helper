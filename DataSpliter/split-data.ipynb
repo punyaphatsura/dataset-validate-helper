{
 "cells": [
  {
   "cell_type": "code",
   "execution_count": 1,
   "metadata": {},
   "outputs": [],
   "source": [
    "import pandas as pd\n",
    "import json\n",
    "import os"
   ]
  },
  {
   "cell_type": "markdown",
   "metadata": {},
   "source": [
    "# Put the Filename and Validate"
   ]
  },
  {
   "cell_type": "code",
   "execution_count": 2,
   "metadata": {},
   "outputs": [],
   "source": [
    "fn = '26-10-azureO1.csv'\n",
    "\n",
    "fn = fn.split('.')\n",
    "\n",
    "if len(fn) == 2 :\n",
    "    [filename, extension] = fn\n",
    "elif len(fn) == 1:\n",
    "    filename = fn[0]\n",
    "    extension = 'csv'\n",
    "else:\n",
    "    raise ValueError('Invalid filename')\n",
    "\n",
    "progress_file_path = f'./progress/validationProgress-{filename}.txt'\n",
    "raw_data_file_path = f'./data/raw/{filename}.{extension}'\n",
    "\n",
    "if not os.path.exists(progress_file_path):\n",
    "    raise FileNotFoundError(f'Progress file not found: {progress_file_path}')\n",
    "if not os.path.exists(raw_data_file_path):\n",
    "    raise FileNotFoundError(f'Raw data file not found: {raw_data_file_path}')"
   ]
  },
  {
   "cell_type": "markdown",
   "metadata": {},
   "source": [
    "# Read File"
   ]
  },
  {
   "cell_type": "code",
   "execution_count": 3,
   "metadata": {},
   "outputs": [
    {
     "data": {
      "text/html": [
       "<div>\n",
       "<style scoped>\n",
       "    .dataframe tbody tr th:only-of-type {\n",
       "        vertical-align: middle;\n",
       "    }\n",
       "\n",
       "    .dataframe tbody tr th {\n",
       "        vertical-align: top;\n",
       "    }\n",
       "\n",
       "    .dataframe thead th {\n",
       "        text-align: right;\n",
       "    }\n",
       "</style>\n",
       "<table border=\"1\" class=\"dataframe\">\n",
       "  <thead>\n",
       "    <tr style=\"text-align: right;\">\n",
       "      <th></th>\n",
       "      <th>thai sentence</th>\n",
       "      <th>english sentence</th>\n",
       "    </tr>\n",
       "  </thead>\n",
       "  <tbody>\n",
       "    <tr>\n",
       "      <th>0</th>\n",
       "      <td>เมื่อเช้าพี่ลองอ่านทรานสคริปต์แล้วรู้สึกเฟ้อเล...</td>\n",
       "      <td>This morning I tried reading the transcript an...</td>\n",
       "    </tr>\n",
       "    <tr>\n",
       "      <th>1</th>\n",
       "      <td>พวกเขาเบรกกะทันหันตรงหน้าแท็งก์น้ำ เพื่อเลี่ยง...</td>\n",
       "      <td>They abruptly braked in front of the water tan...</td>\n",
       "    </tr>\n",
       "    <tr>\n",
       "      <th>2</th>\n",
       "      <td>เธอฟรีค่าเดินทาง เพราะสมัครแฟรนไชส์ใหม่ ได้ส่ว...</td>\n",
       "      <td>She travels for free because she registered a ...</td>\n",
       "    </tr>\n",
       "    <tr>\n",
       "      <th>3</th>\n",
       "      <td>น้องลองทานปอเปี๊ยะแบบเปรี๊ยะๆ แล้วก็ยังรู้สึกห...</td>\n",
       "      <td>They tried fresh spring rolls and still felt c...</td>\n",
       "    </tr>\n",
       "    <tr>\n",
       "      <th>4</th>\n",
       "      <td>ถ้าเหนื่อยมากเกินไป ลองโบ๊ออกไปนั่งพักใต้ต้นไม...</td>\n",
       "      <td>If you're overly tired, try stepping out to re...</td>\n",
       "    </tr>\n",
       "    <tr>\n",
       "      <th>5</th>\n",
       "      <td>บางทีฟลุคชอบเปิดแฟลชเวลาดึก แถมฟลายไปหาเพื่อนต...</td>\n",
       "      <td>Sometimes Fluke turns on the flash late at nig...</td>\n",
       "    </tr>\n",
       "    <tr>\n",
       "      <th>6</th>\n",
       "      <td>เมื่อเขาลองฟร็องซ์น้ำหอมใหม่ กลับได้กลิ่นบร็อง...</td>\n",
       "      <td>When they tested the new Fronce perfume, they ...</td>\n",
       "    </tr>\n",
       "    <tr>\n",
       "      <th>7</th>\n",
       "      <td>โปรดระวังอย่าดร็อปโฟลเดอร์ผิด เพราะไดรฟ์อาจเริ...</td>\n",
       "      <td>Be careful not to drop the wrong folder, becau...</td>\n",
       "    </tr>\n",
       "    <tr>\n",
       "      <th>8</th>\n",
       "      <td>บางครั้งผู้จัดการยัวะตอนประชุม เพราะลูกน้องพูด...</td>\n",
       "      <td>Sometimes the manager gets annoyed in meetings...</td>\n",
       "    </tr>\n",
       "    <tr>\n",
       "      <th>9</th>\n",
       "      <td>ถ้าเธอจั๊วะใส่ประตูเสียงเพียะเมื่อโง้วร้อนไป อ...</td>\n",
       "      <td>If you slam the door with a sharp crack when y...</td>\n",
       "    </tr>\n",
       "  </tbody>\n",
       "</table>\n",
       "</div>"
      ],
      "text/plain": [
       "                                       thai sentence  \\\n",
       "0  เมื่อเช้าพี่ลองอ่านทรานสคริปต์แล้วรู้สึกเฟ้อเล...   \n",
       "1  พวกเขาเบรกกะทันหันตรงหน้าแท็งก์น้ำ เพื่อเลี่ยง...   \n",
       "2  เธอฟรีค่าเดินทาง เพราะสมัครแฟรนไชส์ใหม่ ได้ส่ว...   \n",
       "3  น้องลองทานปอเปี๊ยะแบบเปรี๊ยะๆ แล้วก็ยังรู้สึกห...   \n",
       "4  ถ้าเหนื่อยมากเกินไป ลองโบ๊ออกไปนั่งพักใต้ต้นไม...   \n",
       "5  บางทีฟลุคชอบเปิดแฟลชเวลาดึก แถมฟลายไปหาเพื่อนต...   \n",
       "6  เมื่อเขาลองฟร็องซ์น้ำหอมใหม่ กลับได้กลิ่นบร็อง...   \n",
       "7  โปรดระวังอย่าดร็อปโฟลเดอร์ผิด เพราะไดรฟ์อาจเริ...   \n",
       "8  บางครั้งผู้จัดการยัวะตอนประชุม เพราะลูกน้องพูด...   \n",
       "9  ถ้าเธอจั๊วะใส่ประตูเสียงเพียะเมื่อโง้วร้อนไป อ...   \n",
       "\n",
       "                                    english sentence  \n",
       "0  This morning I tried reading the transcript an...  \n",
       "1  They abruptly braked in front of the water tan...  \n",
       "2  She travels for free because she registered a ...  \n",
       "3  They tried fresh spring rolls and still felt c...  \n",
       "4  If you're overly tired, try stepping out to re...  \n",
       "5  Sometimes Fluke turns on the flash late at nig...  \n",
       "6  When they tested the new Fronce perfume, they ...  \n",
       "7  Be careful not to drop the wrong folder, becau...  \n",
       "8  Sometimes the manager gets annoyed in meetings...  \n",
       "9  If you slam the door with a sharp crack when y...  "
      ]
     },
     "execution_count": 3,
     "metadata": {},
     "output_type": "execute_result"
    }
   ],
   "source": [
    "df = pd.read_csv(raw_data_file_path)\n",
    "\n",
    "# Open and read the JSON file\n",
    "with open(progress_file_path, 'r') as file:\n",
    "    validate_data = json.load(file)\n",
    "\n",
    "df"
   ]
  },
  {
   "cell_type": "markdown",
   "metadata": {},
   "source": [
    "# Replace with Edited Data"
   ]
  },
  {
   "cell_type": "code",
   "execution_count": 4,
   "metadata": {},
   "outputs": [
    {
     "data": {
      "text/html": [
       "<div>\n",
       "<style scoped>\n",
       "    .dataframe tbody tr th:only-of-type {\n",
       "        vertical-align: middle;\n",
       "    }\n",
       "\n",
       "    .dataframe tbody tr th {\n",
       "        vertical-align: top;\n",
       "    }\n",
       "\n",
       "    .dataframe thead th {\n",
       "        text-align: right;\n",
       "    }\n",
       "</style>\n",
       "<table border=\"1\" class=\"dataframe\">\n",
       "  <thead>\n",
       "    <tr style=\"text-align: right;\">\n",
       "      <th></th>\n",
       "      <th>thai sentence</th>\n",
       "      <th>english sentence</th>\n",
       "    </tr>\n",
       "  </thead>\n",
       "  <tbody>\n",
       "    <tr>\n",
       "      <th>0</th>\n",
       "      <td>เมื่อเช้าพี่ลองอ่านทรานสคริปต์แล้วรู้สึกเฟ้อเล...</td>\n",
       "      <td>This morning I tried reading the transcript an...</td>\n",
       "    </tr>\n",
       "    <tr>\n",
       "      <th>1</th>\n",
       "      <td>พวกเขาเบรกกะทันหันตรงหน้าแท็งก์น้ำ เพื่อเลี่ยง...</td>\n",
       "      <td>They abruptly braked in front of the water tan...</td>\n",
       "    </tr>\n",
       "    <tr>\n",
       "      <th>2</th>\n",
       "      <td>เธอฟรีค่าเดินทาง เพราะสมัครแฟรนไชส์ใหม่ ได้ส่ว...</td>\n",
       "      <td>She travels for free because she registered a ...</td>\n",
       "    </tr>\n",
       "    <tr>\n",
       "      <th>3</th>\n",
       "      <td>น้องลองทานปอเปี๊ยะแบบเปรี๊ยะๆ แล้วก็ยังรู้สึกห...</td>\n",
       "      <td>They tried fresh spring rolls and still felt c...</td>\n",
       "    </tr>\n",
       "    <tr>\n",
       "      <th>4</th>\n",
       "      <td>ถ้าเหนื่อยมากเกินไป ลองออกไปนั่งพักใต้ต้นไม้ แ...</td>\n",
       "      <td>If you're overly tired, try stepping out to re...</td>\n",
       "    </tr>\n",
       "    <tr>\n",
       "      <th>5</th>\n",
       "      <td>บางทีฟลุคชอบเปิดแฟลชเวลาดึก แถมบินไปหาเพื่อนตอ...</td>\n",
       "      <td>Sometimes Fluke turns on the flash late at nig...</td>\n",
       "    </tr>\n",
       "    <tr>\n",
       "      <th>6</th>\n",
       "      <td>เมื่อเขาลองฟร็องซ์น้ำหอมใหม่ กลับได้กลิ่นบร็อง...</td>\n",
       "      <td>When they tested the new Fronce perfume, they ...</td>\n",
       "    </tr>\n",
       "    <tr>\n",
       "      <th>7</th>\n",
       "      <td>โปรดระวังอย่าดร็อปโฟลเดอร์ผิด เพราะไดรฟ์อาจเริ...</td>\n",
       "      <td>Be careful not to drop the wrong folder, becau...</td>\n",
       "    </tr>\n",
       "    <tr>\n",
       "      <th>8</th>\n",
       "      <td>บางครั้งผู้จัดการยัวะตอนประชุม เพราะลูกน้องพูด...</td>\n",
       "      <td>Sometimes the manager gets annoyed in meetings...</td>\n",
       "    </tr>\n",
       "    <tr>\n",
       "      <th>9</th>\n",
       "      <td>ถ้าเธอจั๊วะใส่ประตูเสียงเพียะเมื่อโง้วร้อนไป อ...</td>\n",
       "      <td>If you slam the door with a sharp crack when y...</td>\n",
       "    </tr>\n",
       "  </tbody>\n",
       "</table>\n",
       "</div>"
      ],
      "text/plain": [
       "                                       thai sentence  \\\n",
       "0  เมื่อเช้าพี่ลองอ่านทรานสคริปต์แล้วรู้สึกเฟ้อเล...   \n",
       "1  พวกเขาเบรกกะทันหันตรงหน้าแท็งก์น้ำ เพื่อเลี่ยง...   \n",
       "2  เธอฟรีค่าเดินทาง เพราะสมัครแฟรนไชส์ใหม่ ได้ส่ว...   \n",
       "3  น้องลองทานปอเปี๊ยะแบบเปรี๊ยะๆ แล้วก็ยังรู้สึกห...   \n",
       "4  ถ้าเหนื่อยมากเกินไป ลองออกไปนั่งพักใต้ต้นไม้ แ...   \n",
       "5  บางทีฟลุคชอบเปิดแฟลชเวลาดึก แถมบินไปหาเพื่อนตอ...   \n",
       "6  เมื่อเขาลองฟร็องซ์น้ำหอมใหม่ กลับได้กลิ่นบร็อง...   \n",
       "7  โปรดระวังอย่าดร็อปโฟลเดอร์ผิด เพราะไดรฟ์อาจเริ...   \n",
       "8  บางครั้งผู้จัดการยัวะตอนประชุม เพราะลูกน้องพูด...   \n",
       "9  ถ้าเธอจั๊วะใส่ประตูเสียงเพียะเมื่อโง้วร้อนไป อ...   \n",
       "\n",
       "                                    english sentence  \n",
       "0  This morning I tried reading the transcript an...  \n",
       "1  They abruptly braked in front of the water tan...  \n",
       "2  She travels for free because she registered a ...  \n",
       "3  They tried fresh spring rolls and still felt c...  \n",
       "4  If you're overly tired, try stepping out to re...  \n",
       "5  Sometimes Fluke turns on the flash late at nig...  \n",
       "6  When they tested the new Fronce perfume, they ...  \n",
       "7  Be careful not to drop the wrong folder, becau...  \n",
       "8  Sometimes the manager gets annoyed in meetings...  \n",
       "9  If you slam the door with a sharp crack when y...  "
      ]
     },
     "execution_count": 4,
     "metadata": {},
     "output_type": "execute_result"
    }
   ],
   "source": [
    "edited_process = validate_data['editHistory']\n",
    "for edit in edited_process:\n",
    "    row_index = edit['rowIndex']\n",
    "    df.at[row_index, 'thai sentence'] = edit['editedThai']\n",
    "    df.at[row_index, 'english sentence'] = edit['editedEnglish']"
   ]
  },
  {
   "cell_type": "markdown",
   "metadata": {},
   "source": [
    "# Validate End-sentence Symbol\n",
    "`.`, `!` and `?`"
   ]
  },
  {
   "cell_type": "code",
   "execution_count": 5,
   "metadata": {},
   "outputs": [
    {
     "data": {
      "text/html": [
       "<div>\n",
       "<style scoped>\n",
       "    .dataframe tbody tr th:only-of-type {\n",
       "        vertical-align: middle;\n",
       "    }\n",
       "\n",
       "    .dataframe tbody tr th {\n",
       "        vertical-align: top;\n",
       "    }\n",
       "\n",
       "    .dataframe thead th {\n",
       "        text-align: right;\n",
       "    }\n",
       "</style>\n",
       "<table border=\"1\" class=\"dataframe\">\n",
       "  <thead>\n",
       "    <tr style=\"text-align: right;\">\n",
       "      <th></th>\n",
       "      <th>thai sentence</th>\n",
       "      <th>english sentence</th>\n",
       "    </tr>\n",
       "  </thead>\n",
       "  <tbody>\n",
       "    <tr>\n",
       "      <th>0</th>\n",
       "      <td>เมื่อเช้าพี่ลองอ่านทรานสคริปต์แล้วรู้สึกเฟ้อเล...</td>\n",
       "      <td>This morning I tried reading the transcript an...</td>\n",
       "    </tr>\n",
       "    <tr>\n",
       "      <th>1</th>\n",
       "      <td>พวกเขาเบรกกะทันหันตรงหน้าแท็งก์น้ำ เพื่อเลี่ยง...</td>\n",
       "      <td>They abruptly braked in front of the water tan...</td>\n",
       "    </tr>\n",
       "    <tr>\n",
       "      <th>2</th>\n",
       "      <td>เธอฟรีค่าเดินทาง เพราะสมัครแฟรนไชส์ใหม่ ได้ส่ว...</td>\n",
       "      <td>She travels for free because she registered a ...</td>\n",
       "    </tr>\n",
       "    <tr>\n",
       "      <th>3</th>\n",
       "      <td>น้องลองทานปอเปี๊ยะแบบเปรี๊ยะๆ แล้วก็ยังรู้สึกห...</td>\n",
       "      <td>They tried fresh spring rolls and still felt c...</td>\n",
       "    </tr>\n",
       "    <tr>\n",
       "      <th>4</th>\n",
       "      <td>ถ้าเหนื่อยมากเกินไป ลองออกไปนั่งพักใต้ต้นไม้ แ...</td>\n",
       "      <td>If you're overly tired, try stepping out to re...</td>\n",
       "    </tr>\n",
       "    <tr>\n",
       "      <th>5</th>\n",
       "      <td>บางทีฟลุคชอบเปิดแฟลชเวลาดึก แถมบินไปหาเพื่อนตอ...</td>\n",
       "      <td>Sometimes Fluke turns on the flash late at nig...</td>\n",
       "    </tr>\n",
       "    <tr>\n",
       "      <th>6</th>\n",
       "      <td>เมื่อเขาลองฟร็องซ์น้ำหอมใหม่ กลับได้กลิ่นบร็อง...</td>\n",
       "      <td>When they tested the new Fronce perfume, they ...</td>\n",
       "    </tr>\n",
       "    <tr>\n",
       "      <th>7</th>\n",
       "      <td>โปรดระวังอย่าดร็อปโฟลเดอร์ผิด เพราะไดรฟ์อาจเริ...</td>\n",
       "      <td>Be careful not to drop the wrong folder, becau...</td>\n",
       "    </tr>\n",
       "    <tr>\n",
       "      <th>8</th>\n",
       "      <td>บางครั้งผู้จัดการยัวะตอนประชุม เพราะลูกน้องพูด...</td>\n",
       "      <td>Sometimes the manager gets annoyed in meetings...</td>\n",
       "    </tr>\n",
       "    <tr>\n",
       "      <th>9</th>\n",
       "      <td>ถ้าเธอจั๊วะใส่ประตูเสียงเพียะเมื่อโง้วร้อนไป อ...</td>\n",
       "      <td>If you slam the door with a sharp crack when y...</td>\n",
       "    </tr>\n",
       "  </tbody>\n",
       "</table>\n",
       "</div>"
      ],
      "text/plain": [
       "                                       thai sentence  \\\n",
       "0  เมื่อเช้าพี่ลองอ่านทรานสคริปต์แล้วรู้สึกเฟ้อเล...   \n",
       "1  พวกเขาเบรกกะทันหันตรงหน้าแท็งก์น้ำ เพื่อเลี่ยง...   \n",
       "2  เธอฟรีค่าเดินทาง เพราะสมัครแฟรนไชส์ใหม่ ได้ส่ว...   \n",
       "3  น้องลองทานปอเปี๊ยะแบบเปรี๊ยะๆ แล้วก็ยังรู้สึกห...   \n",
       "4  ถ้าเหนื่อยมากเกินไป ลองออกไปนั่งพักใต้ต้นไม้ แ...   \n",
       "5  บางทีฟลุคชอบเปิดแฟลชเวลาดึก แถมบินไปหาเพื่อนตอ...   \n",
       "6  เมื่อเขาลองฟร็องซ์น้ำหอมใหม่ กลับได้กลิ่นบร็อง...   \n",
       "7  โปรดระวังอย่าดร็อปโฟลเดอร์ผิด เพราะไดรฟ์อาจเริ...   \n",
       "8  บางครั้งผู้จัดการยัวะตอนประชุม เพราะลูกน้องพูด...   \n",
       "9  ถ้าเธอจั๊วะใส่ประตูเสียงเพียะเมื่อโง้วร้อนไป อ...   \n",
       "\n",
       "                                    english sentence  \n",
       "0  This morning I tried reading the transcript an...  \n",
       "1  They abruptly braked in front of the water tan...  \n",
       "2  She travels for free because she registered a ...  \n",
       "3  They tried fresh spring rolls and still felt c...  \n",
       "4  If you're overly tired, try stepping out to re...  \n",
       "5  Sometimes Fluke turns on the flash late at nig...  \n",
       "6  When they tested the new Fronce perfume, they ...  \n",
       "7  Be careful not to drop the wrong folder, becau...  \n",
       "8  Sometimes the manager gets annoyed in meetings...  \n",
       "9  If you slam the door with a sharp crack when y...  "
      ]
     },
     "execution_count": 5,
     "metadata": {},
     "output_type": "execute_result"
    }
   ],
   "source": [
    "def ensure_sentence_end(sentence: str) -> str:\n",
    "    if not sentence.endswith(('.', '!', '?')):\n",
    "        return sentence + '.'\n",
    "    return sentence\n",
    "\n",
    "# Apply the function to the 'english sentence' column\n",
    "df['english sentence'] = df['english sentence'].apply(ensure_sentence_end)"
   ]
  },
  {
   "cell_type": "markdown",
   "metadata": {},
   "source": [
    "# Split Data"
   ]
  },
  {
   "cell_type": "code",
   "execution_count": 6,
   "metadata": {},
   "outputs": [],
   "source": [
    "# Create a list of row indices marked as \"ok\"\n",
    "ok_indices = [entry['rowIndex'] for entry in validate_data['history'] if entry['mark'] == 'ok']\n",
    "weird_indices = [entry['rowIndex'] for entry in validate_data['history'] if entry['mark'] == 'weird']\n",
    "skip_indices = [entry['rowIndex'] for entry in validate_data['history'] if entry['mark'] == 'skip']\n",
    "\n",
    "# Filter the DataFrame to keep only the rows with indices in ok_indices\n",
    "filtered_df = df.iloc[ok_indices]\n",
    "weird_df = df.iloc[weird_indices]\n",
    "skip_df = df.iloc[skip_indices]"
   ]
  },
  {
   "cell_type": "markdown",
   "metadata": {},
   "source": [
    "# Analyze The Data"
   ]
  },
  {
   "cell_type": "code",
   "execution_count": 7,
   "metadata": {},
   "outputs": [
    {
     "name": "stdout",
     "output_type": "stream",
     "text": [
      "File: 26-10-azureO1.csv\n",
      "Total data shape: 10\n",
      "Filtered data shape: 6\n",
      "Weird data shape: 4\n",
      "Skipped data shape: 0\n",
      "Weird ratio: 0.6666666666666666\n"
     ]
    }
   ],
   "source": [
    "print('File:','.'.join(fn))\n",
    "print('Total data shape:',df.shape[0])\n",
    "print('Filtered data shape:',filtered_df.shape[0])\n",
    "print('Weird data shape:',weird_df.shape[0])\n",
    "print('Skipped data shape:',skip_df.shape[0])\n",
    "print('Weird ratio:',validate_data['stats']['weird']/validate_data['stats']['ok'])"
   ]
  },
  {
   "cell_type": "markdown",
   "metadata": {},
   "source": [
    "# Write File"
   ]
  },
  {
   "cell_type": "code",
   "execution_count": 8,
   "metadata": {},
   "outputs": [],
   "source": [
    "os.makedirs(f'./data/filtered/{filename}', exist_ok=True)\n",
    "filtered_df.to_csv(f'./data/filtered/{filename}/{filename}_approved.csv', index=False)\n",
    "weird_df.to_csv(f'./data/filtered/{filename}/{filename}_rejected.csv', index=False)"
   ]
  }
 ],
 "metadata": {
  "kernelspec": {
   "display_name": "capstone",
   "language": "python",
   "name": "python3"
  },
  "language_info": {
   "codemirror_mode": {
    "name": "ipython",
    "version": 3
   },
   "file_extension": ".py",
   "mimetype": "text/x-python",
   "name": "python",
   "nbconvert_exporter": "python",
   "pygments_lexer": "ipython3",
   "version": "3.9.19"
  }
 },
 "nbformat": 4,
 "nbformat_minor": 2
}
